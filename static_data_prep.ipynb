{
 "cells": [
  {
   "cell_type": "markdown",
   "id": "compliant-duration",
   "metadata": {},
   "source": [
    "# Static Data Prep\n",
    "Prepares dataframe of static features (Demographics, diagnoses, admission info, DRG info, height, and weight)."
   ]
  },
  {
   "cell_type": "code",
   "execution_count": 388,
   "id": "joined-avatar",
   "metadata": {},
   "outputs": [],
   "source": [
    "import pickle\n",
    "import numpy as np\n",
    "import pandas as pd"
   ]
  },
  {
   "cell_type": "markdown",
   "id": "mediterranean-ballet",
   "metadata": {},
   "source": [
    "# Load data"
   ]
  },
  {
   "cell_type": "code",
   "execution_count": 389,
   "id": "colored-continent",
   "metadata": {
    "scrolled": true
   },
   "outputs": [
    {
     "name": "stderr",
     "output_type": "stream",
     "text": [
      "/Users/Bova/anaconda3/lib/python3.7/site-packages/IPython/core/interactiveshell.py:3156: DtypeWarning: Columns (11) have mixed types.Specify dtype option on import or set low_memory=False.\n",
      "  interactivity=interactivity, compiler=compiler, result=result)\n"
     ]
    }
   ],
   "source": [
    "# Directly accessed\n",
    "admissions = pd.read_csv('mimic_iii_data/ADMISSIONS.csv.gz',compression='gzip').drop('ROW_ID',axis=1)\n",
    "patients   = pd.read_csv('mimic_iii_data/PATIENTS.csv.gz',compression='gzip').drop('ROW_ID',axis=1)\n",
    "dx         = pd.read_csv('mimic_iii_data/DIAGNOSES_ICD.csv.gz',compression='gzip').drop('ROW_ID',axis=1)\n",
    "drg        = pd.read_csv('mimic_iii_data/DRGCODES.csv.gz',compression='gzip').drop('ROW_ID',axis=1)\n",
    "lab        = pd.read_csv('mimic_iii_data/LABEVENTS.csv.gz',compression='gzip').drop('ROW_ID',axis=1)\n",
    "rx         = pd.read_csv('mimic_iii_data/PRESCRIPTIONS.csv.gz',compression='gzip').drop('ROW_ID',axis=1)\n",
    "rx.DRUG    = rx.DRUG.map(lambda x: x.lower().replace('*',' '))\n",
    "\n",
    "# Obtained via SQL queries\n",
    "ht_wt = pd.read_csv('mimic_iii_data/ht_wt.csv')\n",
    "ht_neo= pd.read_csv('mimic_iii_data/len.csv')\n",
    "\n",
    "drg.drop_duplicates(inplace=True)\n",
    "drg.DESCRIPTION = drg.DESCRIPTION.map(lambda x: x.lower() if pd.notna(x) else x)"
   ]
  },
  {
   "cell_type": "code",
   "execution_count": 390,
   "id": "floating-wings",
   "metadata": {},
   "outputs": [],
   "source": [
    "%run functions.ipynb\n",
    "with open(f'maps.pkl', 'rb') as f:\n",
    "    maps = pickle.load(f)"
   ]
  },
  {
   "cell_type": "markdown",
   "id": "complicated-receipt",
   "metadata": {},
   "source": [
    "# Create DF"
   ]
  },
  {
   "cell_type": "code",
   "execution_count": 392,
   "id": "racial-richards",
   "metadata": {},
   "outputs": [],
   "source": [
    "# Create DF\n",
    "X = admissions[['HADM_ID','ADMISSION_TYPE','ADMISSION_LOCATION','LANGUAGE','ETHNICITY',\n",
    "                'DIAGNOSIS','HOSPITAL_EXPIRE_FLAG','ADMITTIME','DISCHTIME','INSURANCE']].copy()"
   ]
  },
  {
   "cell_type": "markdown",
   "id": "administrative-contamination",
   "metadata": {},
   "source": [
    "### Add Columns"
   ]
  },
  {
   "cell_type": "code",
   "execution_count": 393,
   "id": "united-provincial",
   "metadata": {
    "scrolled": true
   },
   "outputs": [],
   "source": [
    "# Length of Stay\n",
    "admissions.DISCHTIME = pd.to_datetime(admissions.DISCHTIME)\n",
    "admissions.ADMITTIME = pd.to_datetime(admissions.ADMITTIME)\n",
    "admissions.DEATHTIME = pd.to_datetime(admissions.DEATHTIME)\n",
    "\n",
    "X['LOS'] = (admissions.DISCHTIME - admissions.ADMITTIME).dt.days\n",
    "# remove DOA patients\n",
    "X = X[X.LOS>0]"
   ]
  },
  {
   "cell_type": "code",
   "execution_count": 394,
   "id": "simple-actress",
   "metadata": {},
   "outputs": [],
   "source": [
    "# Patient age and gender\n",
    "T = pd.merge(admissions[['SUBJECT_ID','HADM_ID','ADMITTIME']],\n",
    "             patients[['SUBJECT_ID','DOB','GENDER']],\n",
    "             on='SUBJECT_ID')\n",
    "\n",
    "T_old    = T[T.DOB < '2000-01-01'] # all patients over 89 have age>300\n",
    "T        = T[T.DOB > '2000-01-01']\n",
    "\n",
    "T['AGE'] =((pd.to_datetime(T.ADMITTIME).dt.date - \n",
    "            pd.to_datetime(T.DOB).dt.date).values//(3.1689*10**16)).astype(int)\n",
    "T_old['AGE'] = 90\n",
    "T = T.append(T_old)\n",
    "X = X.merge(T[['HADM_ID','AGE','GENDER']],on='HADM_ID')\n",
    "X.GENDER = X.GENDER.map(lambda x: 0 if x=='M' else 1)"
   ]
  },
  {
   "cell_type": "code",
   "execution_count": 395,
   "id": "satellite-practice",
   "metadata": {},
   "outputs": [],
   "source": [
    "# ICD9 codes (diagnosis 1 used to impute missing DIAGNOSIS values)\n",
    "X = X.merge(dx[['HADM_ID','ICD9_CODE']][dx.SEQ_NUM==1],on='HADM_ID')\\\n",
    "     .rename(columns = {'ICD9_CODE':f'DIAGNOSIS_1'})\n",
    "    \n",
    "X = X.merge(dx.groupby('HADM_ID').SEQ_NUM.max(),on='HADM_ID')\\\n",
    "     .rename(columns = {'SEQ_NUM':f'N_DIAGNOSES'})           \\\n",
    "     .set_index('HADM_ID')"
   ]
  },
  {
   "cell_type": "markdown",
   "id": "decent-uncertainty",
   "metadata": {},
   "source": [
    "# Fill missing values"
   ]
  },
  {
   "cell_type": "code",
   "execution_count": 396,
   "id": "intensive-northwest",
   "metadata": {},
   "outputs": [
    {
     "name": "stdout",
     "output_type": "stream",
     "text": [
      "ADMISSION_TYPE:\n",
      "\t0\n",
      "ADMISSION_LOCATION:\n",
      "\t0\n",
      "LANGUAGE:\n",
      "\t24369\n",
      "ETHNICITY:\n",
      "\t0\n",
      "DIAGNOSIS:\n",
      "\t3\n",
      "HOSPITAL_EXPIRE_FLAG:\n",
      "\t0\n",
      "ADMITTIME:\n",
      "\t0\n",
      "DISCHTIME:\n",
      "\t0\n",
      "INSURANCE:\n",
      "\t0\n",
      "LOS:\n",
      "\t0\n",
      "AGE:\n",
      "\t0\n",
      "GENDER:\n",
      "\t0\n",
      "DIAGNOSIS_1:\n",
      "\t0\n",
      "N_DIAGNOSES:\n",
      "\t0\n"
     ]
    }
   ],
   "source": [
    "for col in X.columns:\n",
    "    print(f'{col}:\\n\\t{X[col].isna().sum()}')"
   ]
  },
  {
   "cell_type": "markdown",
   "id": "median-destiny",
   "metadata": {},
   "source": [
    "### Fill Missing dx"
   ]
  },
  {
   "cell_type": "code",
   "execution_count": 397,
   "id": "public-occupation",
   "metadata": {},
   "outputs": [],
   "source": [
    "# Impute using missing diagnosis map\n",
    "X.DIAGNOSIS = X[['DIAGNOSIS','DIAGNOSIS_1']].set_index('DIAGNOSIS_1').DIAGNOSIS\\\n",
    "                                            .fillna(maps['diagnosis_na']).values"
   ]
  },
  {
   "cell_type": "markdown",
   "id": "prostate-advice",
   "metadata": {},
   "source": [
    "### Fill Missing Language"
   ]
  },
  {
   "cell_type": "code",
   "execution_count": 398,
   "id": "latter-fruit",
   "metadata": {},
   "outputs": [],
   "source": [
    "# missing values assumed to be English. Map to binary, indicating presence of language barrier\n",
    "X.LANGUAGE = X.LANGUAGE.map(lambda x: 1 if x=='ENGL' else 0) "
   ]
  },
  {
   "cell_type": "code",
   "execution_count": 399,
   "id": "labeled-integrity",
   "metadata": {},
   "outputs": [
    {
     "data": {
      "text/plain": [
       "0"
      ]
     },
     "execution_count": 399,
     "metadata": {},
     "output_type": "execute_result"
    }
   ],
   "source": [
    "# check for any remaining NANs\n",
    "X.isna().sum().sum()"
   ]
  },
  {
   "cell_type": "markdown",
   "id": "incorporate-turkey",
   "metadata": {},
   "source": [
    "## Number Previous Admissions"
   ]
  },
  {
   "cell_type": "code",
   "execution_count": 400,
   "id": "upset-keeping",
   "metadata": {},
   "outputs": [],
   "source": [
    "admissions = admissions.sort_values(by='ADMITTIME')\n",
    "admissions['N_ADMISSIONS'] = admissions.groupby(['SUBJECT_ID']).cumcount()\n",
    "X = X.join(admissions[['HADM_ID','N_ADMISSIONS']].set_index('HADM_ID'))"
   ]
  },
  {
   "cell_type": "markdown",
   "id": "federal-toolbox",
   "metadata": {},
   "source": [
    "# Narrow categorical\n",
    "### Broaden ethnicity categories"
   ]
  },
  {
   "cell_type": "code",
   "execution_count": 401,
   "id": "communist-houston",
   "metadata": {},
   "outputs": [],
   "source": [
    "# narrow ethnicity categories (english vs. non-english speaking)\n",
    "X.ETHNICITY = X.ETHNICITY.map(maps['ethnicity']) #drop unknown after dummies created"
   ]
  },
  {
   "cell_type": "markdown",
   "id": "overall-spice",
   "metadata": {},
   "source": [
    "### Broaden Admission Location categories"
   ]
  },
  {
   "cell_type": "code",
   "execution_count": 402,
   "id": "placed-surprise",
   "metadata": {},
   "outputs": [],
   "source": [
    "X.ADMISSION_LOCATION = X.ADMISSION_LOCATION.map(maps['admission_location'])"
   ]
  },
  {
   "cell_type": "markdown",
   "id": "unexpected-bermuda",
   "metadata": {},
   "source": [
    "### Map ICD9 codes"
   ]
  },
  {
   "cell_type": "code",
   "execution_count": 403,
   "id": "spectacular-peeing",
   "metadata": {},
   "outputs": [
    {
     "name": "stdout",
     "output_type": "stream",
     "text": [
      "GI_INFECTION\n",
      "TB\n",
      "BACTERIAL_INFECTION_OTHER\n",
      "SEPSIS\n",
      "HIV\n",
      "VIRAL_CNS\n",
      "VIRAL_HEPATITIS\n",
      "VIRUS_OTHER\n",
      "CHLAMIDIA\n",
      "ARTHROPOD_BORN_INFECTION\n",
      "SYPHILIS\n",
      "DERMATOPHYTOSIS\n",
      "CANDIDIASIS\n",
      "MYCOSES_OTHER\n",
      "HELMINTHIASIS\n",
      "INFECTION_OTHER\n",
      "SARCOIDOSIS\n",
      "POLIO\n",
      "ORAL_PHARYNGERAL_CANCER\n",
      "ESOPHAGUS_STOMACH_CANCER\n",
      "INTESTINAL_CANCER\n",
      "LIVER_CANCER\n",
      "GALLBLADDER_CANCER\n",
      "PANCREATIC_CANCER\n",
      "GI_CANCER_OTHER\n",
      "UPPPER_RESPIRATORY_CANCER\n",
      "LUNG_CANCER\n",
      "RESPIRATORY_CANCER_OTHER\n",
      "BONE_CONNECTIVE_TISSUE_CANCER\n",
      "SKIN_CANCER\n",
      "BREAST_CANCER\n",
      "KAPOSIS_SARCOMA\n",
      "UTERINE_CANCER\n",
      "OVARIAN_CANCER\n",
      "PROSTATE_CANCER\n",
      "MALE_REPRO_CANCER_OTHER\n",
      "BLADDER_CANCER\n",
      "KIDNEY_CANCER\n",
      "NEURO_CANCER_OTHER\n",
      "BRAIN_CANCER\n",
      "THYROID_CANCER\n",
      "ENDOCRINE_CANCER_OTHER\n",
      "CANCER_OTHER\n",
      "METS_TO_LYMPH_NODES\n",
      "METS_TO_RESP_GI\n",
      "METS_TO_OTHER\n",
      "LYMPHATIC_CANCER\n",
      "HOGKINS_LYMPHOMA\n",
      "HEME_CANCER_OTHER\n",
      "MULTIPLE_MYELOMA\n",
      "LEUKEMIA\n",
      "NEUROENDOCRINE_TUMORS\n",
      "BENIGN_GI\n",
      "BENIGN_RESPIRATORY\n",
      "BENIGN_OTHER\n",
      "BENIGN_BRAIN\n",
      "BENIGN_ENDOCRINE\n",
      "UTERINE_LEIOMYOMA\n",
      "HEMANGIOMA_LYMPHANGIOMA\n",
      "CARCINOMA_IN_SITU\n",
      "GOITER\n",
      "THYROTOXICOSIS\n",
      "HYPOTHYROIDISM\n",
      "THYROID_DX_OTHER\n",
      "DM\n",
      "PANCREATIC_DX_OTHER\n",
      "PITUITARY_DX\n",
      "ENDOCRINE_DX_OTHER\n",
      "ADRENAL_DX\n",
      "VITAMIN_DEFICIENCY\n",
      "MALNUTRITION\n",
      "METABOLIC_DX_OTHER\n",
      "LIPOID_METABOLISM_DX\n",
      "PLASMA_PROTEIN_DX\n",
      "GOUT\n",
      "MINERAL_METABOLISM_DX\n",
      "FLUID_ELECTROLYTE_DX\n",
      "OBESITY\n",
      "AUTOIMMUNE_DX\n",
      "DEFICIENCY_ANEMIA\n",
      "HEMOLYTIC_ANEMIA\n",
      "APLASTIC_ANEMIA\n",
      "ANEMIA_OTHER\n",
      "COAGULATION_DX\n",
      "PURPURA_THROMBOCYTOPENIA\n",
      "WBC_DX\n",
      "HEME_DX_OTHER\n",
      "DEMENTIA\n",
      "DRUG_INDUCED_PSYCHOSIS\n",
      "TRANSIENT_PSYCHOSIS_OTHER\n",
      "PERSISTENT_PSYCHOSIS_OTHER\n",
      "SCHIZOPHRENIA\n",
      "MOOD_DX\n",
      "PSYCHOSES_OTHER\n",
      "ANXIETY\n",
      "PERSONALITY_DX\n",
      "MENTAL_DX_OTHER\n",
      "SUBSTANCE_DEPENDENCE\n",
      "MENTAL_DX_DT_BRAIN_DMG\n",
      "DEPRESSION\n",
      "CHILDHOOD_PSYCH_DX\n",
      "DEVELOPMENT_DX\n",
      "MENINGITIS\n",
      "ENCEPHALITIS\n",
      "CNS_ABSCESS\n",
      "NEURO_INFLAMMATORY_DX_OTHER\n",
      "SLEEP_DX\n",
      "ALZHEIMERS\n",
      "PARKINSONS\n",
      "EXTRAPYRAMIDAL_DX\n",
      "SPINAL_DX\n",
      "AUTONOMIC_NEURO_DX\n",
      "PAIN\n",
      "MS_DEMYELENATING\n",
      "PARALYSIS\n",
      "CEREBAL_PALSY\n",
      "EPILEPSY\n",
      "MIGRAINE\n",
      "BRAIN_DX_OTHER\n",
      "NEURO_DX_OTHER\n",
      "CRANIAL_NERVE_DX\n",
      "MONONEURITIS\n",
      "HEREDITARY_PERIPHERAL_NEUROPATHY\n",
      "INFLAMMATORY_NEUROPATHY\n",
      "MYONEURAL_DX\n",
      "EYE_DX\n",
      "HEARING_LOSS\n",
      "RHEUMATIC_HEART_DX\n",
      "HTN\n",
      "ACUTE_MI\n",
      "OLD_MI\n",
      "ANGINA_PECTORIS\n",
      "ISCHEMIC_HEART_DX_OTHER\n",
      "ACUTE_PULMONARY_HEART_DX\n",
      "CHRONIC_PULMONARY_HEART_DX\n",
      "PERI_ENDO_MYO_CARDITIS\n",
      "VALVE_DX\n",
      "CARDIOMYOPATHY\n",
      "HEART_BLOCK\n",
      "DYSRHYTHMIAS\n",
      "HEART_FAILURE\n",
      "INTRACRANIAL_HEMORRHAGE\n",
      "PRECEREBRAL_OCCLUSION\n",
      "OCCLUSIVE_STROKE\n",
      "CEREBROVASCULAR_DX_OTHER\n",
      "CEREBROVASCULAR_DX_LATE_EFFECTS\n",
      "ATHEROSCLEROSIS\n",
      "AAA\n",
      "ANEURYSM_OTHER\n",
      "PVD_OTHER\n",
      "EMBOLISM_THROMBOSIS\n",
      "ARTERIAL_DX_OTHER\n",
      "PHLEBITIS\n",
      "VENOUS_THROMBOSIS\n",
      "VARICOSE_VEINS\n",
      "HYPOTENSION\n",
      "CARDIOVASCULAR_DX_OTHER\n",
      "UPPER_RESPIRATORY_INFECTION\n",
      "UPPER_RESPIRATORY_DX\n",
      "PNA\n",
      "INFLUENZA\n",
      "BRONCHITIS\n",
      "EMPHYSEMA\n",
      "ASTHMA\n",
      "OBSTRUCTIVE_PULMONARY_DX_OTHER\n",
      "COPD\n",
      "RESPIRATORY_DX_DT_EXTERNAL_AGENT\n",
      "ASPIRATION\n",
      "EMPYEMA_PLEURISY\n",
      "PNEUMOTHORAX\n",
      "LUNG_ABSCESS\n",
      "PULMONARY_CONGESTION\n",
      "PULMONARY_FIBROSIS\n",
      "PNEUMOPATHY\n",
      "LUNG_DX_DT_OTHER_DX\n",
      "LUNG_COLLAPSE_FAILURE\n",
      "RESPIRATORY_DX_OTHER\n",
      "ORAL_CAVITY_DX\n",
      "ESOPHAGEAL_DX\n",
      "GI_ULCER\n",
      "GASTRITIS_DUODENITIS\n",
      "GI_FX_DX\n",
      "STOMACH_DUODENAL_DX_OTHER\n",
      "APPENDICITIS\n",
      "HERNIA\n",
      "INFLAMMATORY_BOWEL_DX\n",
      "GI_VASCULAR_INSUFFICIENCY\n",
      "GI_INFLAMMATION_OTHER\n",
      "GI_OBSTRUCTION\n",
      "DIVERTICULA\n",
      "INTESTINAL_DX_OTHER\n",
      "PERITONEAL_INFECTION\n",
      "PERITONEAL_DX\n",
      "LIVER_NECROSIS\n",
      "CHRONIC_LIVER_DX\n",
      "LIVER_DX_SEQUELAE\n",
      "LIVER_DX_OTHER\n",
      "CHOLELITHIASIS\n",
      "GALLBLADDER_DX\n",
      "BILIARY_DX_OTHER\n",
      "PANCREATIC_DX\n",
      "GIB\n",
      "MALABSORBTION\n",
      "NEPHRITIS\n",
      "RENAL_FAILURE\n",
      "CKD\n",
      "DX_DT_IMPAIRED_RENAL_FX\n",
      "KIDNEY_INFECTION\n",
      "HYDRONEPHROSIS\n",
      "RENAL_STONES\n",
      "RENAL_DX_OTHER\n",
      "BLADDER_DX\n",
      "URINARY_TRACT_DX\n",
      "PROSTATE_DX\n",
      "MALE_GENITAL_DX_OTHER\n",
      "BREAST_DX\n",
      "FEMALE_PELVIC_ORGAN_INFLAMMATION\n",
      "FEMALE_GENITAL_DX_OTHER\n",
      "ABORTIVE_PREGNANCY\n",
      "COMPLICATIONS_DT_PREGNANCY\n",
      "NORMAL_PREGNANCY\n",
      "LABOR_DELIVERY_COMPLICATIONS\n",
      "PUERPERIUM_COMPLICATION\n",
      "PREGNANCY_COMPLICATION_OTHER\n",
      "SKIN_INFECTION\n",
      "SKIN_INFLAMMATORY_DX\n",
      "SKIN_DX_OTHER\n",
      "CHRONIC_SKIN_ULCER\n",
      "DIFFUSE_CONNECTIVE_TISSUE_DX\n",
      "JOINT_INFECTION\n",
      "ARTHROPATHY_OTHER\n",
      "RA\n",
      "OA\n",
      "DORSOPATHY\n",
      "DISC_DX\n",
      "BACK_NECK_DX_OTHER\n",
      "MYALGIA\n",
      "CONNECTIVE_TISSUE_DX\n",
      "BONE_INFECTION\n",
      "OSTEOPATHY\n",
      "MUSCULOSKELETAL_DEFORMITY\n",
      "SPINAL_CURVE\n",
      "CONGENITAL_NEURO_ANOMALY\n",
      "CONGENITAL_ANOMALY_OTHER\n",
      "CIRCULATORY_CONGENITAL_ANOMALY\n",
      "RESPIRATORY_CONGENITAL_ANOMALY\n",
      "GI_CONGENITAL_ANOMALY\n",
      "GU_CONGENITAL_ANOMALY\n",
      "MUSCULOSKEL_CONGENITAL_ANOMALY\n",
      "CHROMOSOMAL_ANOMALY\n",
      "PERINATAL_MORTALITY_DT_MATERNAL\n",
      "SHORT_GESTATION_LOW_BIRTH_WT\n",
      "LONG_GESTATION_HIGH_BIRTH_WT\n",
      "NEONATE_RESPIRATORY_ISSUES\n",
      "PERINATAL_INFECTION\n",
      "NEONATE_HEMORRHAGE\n",
      "NEONATE_HEMOLYTIC_DX\n",
      "NEONATE_JAUNDICE\n",
      "NEONATE_ENDOCRINE_DX\n",
      "NEONATE_HEME_DX\n",
      "NEONATE_GI_DX\n",
      "NEONATE_SKIN_DX_TEMP_REGULATION\n",
      "PERINATAL_ISSUES_OTHER\n",
      "SEIZURES\n",
      "AMS\n",
      "SYNCOPE\n",
      "FEVER\n",
      "FATIGUE\n",
      "DIZZINESS\n",
      "NEUROMUSCULAR_SYMPTOMS\n",
      "EPISTAXIS\n",
      "SHOCK\n",
      "TACHYCARDIA_PALPITATIONS\n",
      "HEART_MURMUR\n",
      "GANGRENE\n",
      "CARDIAC_SYMPTOMS_OTHER\n",
      "RESPIRATORY_SYMPTOMS\n",
      "NV\n",
      "DYSPHAGIA\n",
      "GI_SYMPTOMS_OTHER\n",
      "GU_SYMPTOMS_OTHER\n",
      "URINARY_INCONTINENCE_FREQUENCY\n",
      "OLIGURIA_ANURIA\n",
      "ABDOMINAL_PAIN\n",
      "ASCITES\n",
      "ABNORMAL_RBC\n",
      "ABNORMAL_GLUCOSE\n",
      "ABNORMAL_BLOOD_OTHER\n",
      "VIREMIA_BACTEREMIA\n",
      "ABNORMAL_URINE\n",
      "ABNORMAL_FLUID_OTHER\n",
      "ABNORMAL_RADIOLOGY\n",
      "SKULL_FX\n",
      "SPINE_FX\n",
      "UPPER_EXTREMITY_FX\n",
      "LOWER_EXTREMITY_FX\n",
      "DISLOCATION_SPRAIN\n",
      "INTRACRANIAL_INJURY\n",
      "INTERNAL_INJURY\n",
      "OPEN_INJURY_OTHER\n",
      "OPEN_EXTREMITY_INJURY\n",
      "BLOOD_VESSEL_INJURY\n",
      "LATE_EFFECTS_DT_INJURY_TOXICITY\n",
      "SUPERFICIAL_INJURY_CONTUSION\n",
      "IMPALATION\n",
      "BURN\n",
      "SPINAL_CORD_INJURY\n",
      "TRAUMA_OTHER\n",
      "POISONING_TOXICITY\n",
      "INJURY_DT_EXTERNAL_CAUSE_OTHER\n",
      "COMPLICATIONS_DT_MEDICAL_CARE\n",
      "POTENTIAL_HEALTH_HAZARD\n",
      "AFTERCARE_PROCEDURE\n",
      "SINGLE_LIVEBORN\n",
      "MULTIPLE_LIVEBORN\n",
      "VEHICLE_ACCIDENT\n",
      "FALL\n",
      "INJURY_OTHER\n",
      "ABNORMAL_FINDING_OTHER\n"
     ]
    }
   ],
   "source": [
    "X = add_columns(X,dx,maps['icd'],'ICD9_CODE').drop(['SUBJECT_ID','SEQ_NUM'],axis=1)"
   ]
  },
  {
   "cell_type": "markdown",
   "id": "standing-proxy",
   "metadata": {},
   "source": [
    "### Pull Keywords from DRGs"
   ]
  },
  {
   "cell_type": "code",
   "execution_count": 404,
   "id": "stopped-andorra",
   "metadata": {},
   "outputs": [
    {
     "name": "stdout",
     "output_type": "stream",
     "text": [
      "COMA\n",
      "SEVERE\n",
      "VENTILATED\n",
      "SX\n",
      "TRANSPLANT\n",
      "FAILURE\n",
      "CANCER\n",
      "ID\n",
      "NEONATE\n"
     ]
    }
   ],
   "source": [
    "# Pull tags from DRGs using DRG map\n",
    "tags = ['COMA','SEVERE','VENTILATED','SX','TRANSPLANT','FAILURE','CANCER','ID','NEONATE']\n",
    "\n",
    "drg_copy = drg.copy()\n",
    "drg_copy.DESCRIPTION = drg.DESCRIPTION.map(maps['drg'])\n",
    "for tag in tags:\n",
    "    print(tag)\n",
    "    drg_copy['TAG_'+tag] = drg_copy.DESCRIPTION.map(lambda x: get_descriptor(x,tag), na_action='ignore')\n",
    "    drg_copy.DESCRIPTION = drg_copy.DESCRIPTION.map(lambda x: strip_descriptor(x,tag), na_action='ignore')\n",
    "\n",
    "tags = ['TAG_'+tag for tag in tags]\n",
    "drg_copy  = drg_copy[tags+['DESCRIPTION','HADM_ID']].drop_duplicates()\n",
    "drg_copy  = pd.get_dummies(drg_copy,prefix='TAG',columns=['DESCRIPTION'])\\\n",
    "              .groupby('HADM_ID').sum().applymap(lambda x: 1 if x>=1 else 0)\n",
    "drg_copy.drop('TAG_OTHER',axis=1,inplace=True)\n",
    "X = X.merge(drg_copy,on='HADM_ID',how='left')\n",
    "X[drg_copy.columns] = X[drg_copy.columns].fillna(0)"
   ]
  },
  {
   "cell_type": "code",
   "execution_count": 405,
   "id": "organized-investing",
   "metadata": {},
   "outputs": [],
   "source": [
    "# Some tags from diagnosis and DRGs overlap - assumed 1 if either is 1\n",
    "overlap = ['STROKE','TRANSPLANT','NEONATE','DM','ELECTROLYTE_DX','HTN','MI','OD','PSYCH','TRAUMA','SEPSIS']\n",
    "\n",
    "for d,regx in maps['diagnoses'].items():\n",
    "    if d in overlap:\n",
    "        X[f'{d}'] = X.DIAGNOSIS.str.match(regx).fillna(0).astype(int,errors='ignore')\n",
    "    else:\n",
    "        X[f'TAG_{d}'] = X.DIAGNOSIS.str.match(regx).fillna(0).astype(int,errors='ignore')\n",
    "        \n",
    "# Merge overlapping columns\n",
    "for d in overlap:\n",
    "    X[f'TAG_{d}'] = X[[d,'TAG_'+d]].apply(lambda x: 1 if sum(x)>0 else 0,axis=1)\n",
    "    X.drop(d,axis=1,inplace=True)"
   ]
  },
  {
   "cell_type": "markdown",
   "id": "surprised-thing",
   "metadata": {},
   "source": [
    "## Height"
   ]
  },
  {
   "cell_type": "code",
   "execution_count": 406,
   "id": "buried-idaho",
   "metadata": {},
   "outputs": [],
   "source": [
    "ht_wt = ht_wt[ht_wt.VALUENUM>0]\n",
    "ht_wt.ITEMID = ht_wt.ITEMID.map(maps['ht_wt_map'])\n",
    "\n",
    "ht = ht_wt[((ht_wt.ITEMID=='Height')       |\n",
    "            (ht_wt.ITEMID=='HEIGHT_IN')    |\n",
    "            (ht_wt.ITEMID=='Height (cm)')  |\n",
    "            (ht_wt.ITEMID=='Height Inches')|\n",
    "            (ht_wt.ITEMID=='HEIGHT_CM'))   &\n",
    "           (ht_wt.VALUENUM<250)].copy()\n",
    "ht['HEIGHT'] = ht.VALUENUM.apply(lambda h: fix_height(h)) # convert to cm\n",
    "ht = ht[ht.HEIGHT.between(100,240)]\n",
    "ht = get_first(ht) \n",
    "ht = ht[~ht.index.duplicated()] \n",
    "\n",
    "ht_neo['HEIGHT'] = ht_neo.apply(lambda l: l.VALUENUM*2.54 if l.VALUENUM < 25 \n",
    "                                                        else l.VALUENUM, axis=1)\n",
    "ht_neo = ht_neo[ht_neo.HEIGHT>25]\n",
    "ht_neo = get_first(ht_neo)\n",
    "\n",
    "ht = ht.append(ht_neo)\n",
    "ht = ht[~ht.index.duplicated()]\n",
    "X = X.join(ht.HEIGHT)"
   ]
  },
  {
   "cell_type": "markdown",
   "id": "strategic-switzerland",
   "metadata": {},
   "source": [
    "## Weight"
   ]
  },
  {
   "cell_type": "code",
   "execution_count": 407,
   "id": "accredited-brazil",
   "metadata": {},
   "outputs": [],
   "source": [
    "wt_neo = ht_wt[(ht_wt.ITEMID=='Birthweight (kg)')    |\n",
    "               (ht_wt.ITEMID=='Birth Weight    (kg)')|\n",
    "               (ht_wt.ITEMID=='Previous Weight (kg)')|\n",
    "               (ht_wt.ITEMID=='Present Weight  (oz)')|  \n",
    "               (ht_wt.ITEMID=='Present Weight  (lb)')|\n",
    "               (ht_wt.ITEMID=='Present Weight  (kg)')].copy()\n",
    "wt_neo['WEIGHT'] = wt_neo.apply(lambda w: fix_weight(w),axis=1)\n",
    "wt_neo = wt_neo[wt_neo.WEIGHT.between(0.3,20)]\n",
    "wt_neo = get_first(wt_neo)\n",
    "\n",
    "wt = ht_wt[((ht_wt.ITEMID=='Daily Weight')           |    # kg\n",
    "            (ht_wt.ITEMID=='Admission Weight (Kg)')  |\n",
    "            (ht_wt.ITEMID=='Admission Weight (lbs.)')|\n",
    "            (ht_wt.ITEMID=='Weight Kg')              |\n",
    "            (ht_wt.ITEMID=='Previous Weight')        |    # kg\n",
    "            (ht_wt.ITEMID=='Previous WeightF')       |    # kg\n",
    "            (ht_wt.ITEMID=='Previous Weight'))       &    # kg\n",
    "            ((ht_wt.VALUENUM/2.2)<636)].copy()            # record human wt\n",
    "wt = wt[wt.VALUENUM.between(0.3,1400)]\n",
    "wt['WEIGHT'] = wt.apply(lambda w: w.VALUENUM/2.2 if w.ITEMID=='Admission Weight (lbs.)' \n",
    "                                               else w.VALUENUM, axis=1)\\\n",
    "                 .apply(lambda w: w/2.2 if w > 400 else w)\n",
    "wt = get_first(wt)\n",
    "wt = wt.append(wt_neo)\n",
    "wt = wt[~wt.index.duplicated()]\n",
    "\n",
    "X  = X.join(wt.WEIGHT)"
   ]
  },
  {
   "cell_type": "markdown",
   "id": "double-above",
   "metadata": {},
   "source": [
    "## Drop any 1-level and superfluous columns"
   ]
  },
  {
   "cell_type": "code",
   "execution_count": 408,
   "id": "solar-alignment",
   "metadata": {},
   "outputs": [
    {
     "name": "stdout",
     "output_type": "stream",
     "text": [
      "['LEUKEMIA', 'BENIGN_GI', 'PREGNANCY_COMPLICATION_OTHER']\n"
     ]
    }
   ],
   "source": [
    "one_level_columns = [c for c in X.columns if len(X[c].unique())<2]\n",
    "print(one_level_columns)\n",
    "\n",
    "drop = ['DIAGNOSIS'  ,\n",
    "        'DIAGNOSIS_1']\n",
    "\n",
    "X = X.drop(one_level_columns+drop,axis=1)"
   ]
  },
  {
   "cell_type": "markdown",
   "id": "based-crash",
   "metadata": {},
   "source": [
    "## Impute missing weight and height"
   ]
  },
  {
   "cell_type": "code",
   "execution_count": 409,
   "id": "naked-sheet",
   "metadata": {},
   "outputs": [],
   "source": [
    "# Temporarilly remove columns not used in imputing\n",
    "no_imputation = ['HOSPITAL_EXPIRE_FLAG','ADMITTIME','DISCHTIME','LOS']\n",
    "temp = X[no_imputation]\n",
    "X = X.drop(no_imputation,axis=1)\n",
    "X = pd.get_dummies(X,columns=['ADMISSION_TYPE','ADMISSION_LOCATION','ETHNICITY','INSURANCE'])"
   ]
  },
  {
   "cell_type": "code",
   "execution_count": 410,
   "id": "metropolitan-bernard",
   "metadata": {},
   "outputs": [
    {
     "name": "stdout",
     "output_type": "stream",
     "text": [
      "[IterativeImputer] Completing matrix with shape (56676, 438)\n",
      "[IterativeImputer] Ending imputation round 1/10, elapsed time 1299.82\n",
      "[IterativeImputer] Change: 91.1581965810972, scaled tolerance: 0.5686363636363636 \n",
      "[IterativeImputer] Ending imputation round 2/10, elapsed time 2584.40\n",
      "[IterativeImputer] Change: 7.133564434151822, scaled tolerance: 0.5686363636363636 \n",
      "[IterativeImputer] Ending imputation round 3/10, elapsed time 4017.65\n",
      "[IterativeImputer] Change: 1.1610904495760201, scaled tolerance: 0.5686363636363636 \n",
      "[IterativeImputer] Ending imputation round 4/10, elapsed time 5377.37\n",
      "[IterativeImputer] Change: 0.4132630128793908, scaled tolerance: 0.5686363636363636 \n",
      "[IterativeImputer] Early stopping criterion reached.\n",
      "[IterativeImputer] Completing matrix with shape (56676, 438)\n",
      "[IterativeImputer] Ending imputation round 1/4, elapsed time 0.47\n",
      "[IterativeImputer] Ending imputation round 2/4, elapsed time 0.92\n",
      "[IterativeImputer] Ending imputation round 3/4, elapsed time 1.33\n",
      "[IterativeImputer] Ending imputation round 4/4, elapsed time 1.74\n"
     ]
    }
   ],
   "source": [
    "from sklearn.experimental import enable_iterative_imputer\n",
    "from sklearn.impute import IterativeImputer\n",
    "\n",
    "# convert to meters so height and weight can have same min value (0.25 kg and 0.25 m)\n",
    "X.HEIGHT = X.HEIGHT/100\n",
    "try:\n",
    "    imputer = pickle.load( open('ht_wt_imputer.pkl', 'rb' ))\n",
    "except OSError:\n",
    "    imputer = IterativeImputer(min_value    = 0.25   ,\n",
    "                              random_state = 1984,\n",
    "                              verbose      = 2   )\n",
    "    imputer.fit(X)\n",
    "    pickle.dump(imputer,open('ht_wt_imputer.pkl', 'wb'))\n",
    "    \n",
    "X = pd.DataFrame(imputer.transform(X),\n",
    "                 columns = X.columns ,\n",
    "                 index   = X.index   )\n",
    "X.HEIGHT = X.HEIGHT*100 # Prefer cm"
   ]
  },
  {
   "cell_type": "markdown",
   "id": "loaded-vinyl",
   "metadata": {},
   "source": [
    "## Add BMI"
   ]
  },
  {
   "cell_type": "code",
   "execution_count": 411,
   "id": "upper-conjunction",
   "metadata": {},
   "outputs": [],
   "source": [
    "X = X.join(temp)\n",
    "X['BMI'] = X.WEIGHT/(X.HEIGHT/100)**2"
   ]
  },
  {
   "cell_type": "markdown",
   "id": "established-domain",
   "metadata": {},
   "source": [
    "# Save"
   ]
  },
  {
   "cell_type": "code",
   "execution_count": 412,
   "id": "american-rapid",
   "metadata": {},
   "outputs": [],
   "source": [
    "X.to_csv('X_y_static.csv')"
   ]
  },
  {
   "cell_type": "code",
   "execution_count": null,
   "id": "running-outside",
   "metadata": {},
   "outputs": [],
   "source": []
  }
 ],
 "metadata": {
  "kernelspec": {
   "display_name": "Python 3",
   "language": "python",
   "name": "python3"
  },
  "language_info": {
   "codemirror_mode": {
    "name": "ipython",
    "version": 3
   },
   "file_extension": ".py",
   "mimetype": "text/x-python",
   "name": "python",
   "nbconvert_exporter": "python",
   "pygments_lexer": "ipython3",
   "version": "3.7.1"
  }
 },
 "nbformat": 4,
 "nbformat_minor": 5
}
